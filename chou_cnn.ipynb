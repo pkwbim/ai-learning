{
  "nbformat": 4,
  "nbformat_minor": 0,
  "metadata": {
    "colab": {
      "name": "chou_cnn.ipynb",
      "provenance": [],
      "collapsed_sections": [],
      "authorship_tag": "ABX9TyOhPshYaBJwlHqnzIGhEMMD",
      "include_colab_link": true
    },
    "kernelspec": {
      "name": "python3",
      "display_name": "Python 3"
    },
    "accelerator": "GPU"
  },
  "cells": [
    {
      "cell_type": "markdown",
      "metadata": {
        "id": "view-in-github",
        "colab_type": "text"
      },
      "source": [
        "<a href=\"https://colab.research.google.com/github/pkwbim/ai-learning/blob/master/chou_cnn.ipynb\" target=\"_parent\"><img src=\"https://colab.research.google.com/assets/colab-badge.svg\" alt=\"Open In Colab\"/></a>"
      ]
    },
    {
      "cell_type": "code",
      "metadata": {
        "id": "pq6JODKuQ6gu",
        "colab_type": "code",
        "colab": {}
      },
      "source": [
        "from tensorflow.keras.datasets.cifar10 import load_data\n",
        "(x_train, y_train), (x_test, y_test)= load_data()"
      ],
      "execution_count": 9,
      "outputs": []
    },
    {
      "cell_type": "code",
      "metadata": {
        "id": "Gj2VSbJcRAHr",
        "colab_type": "code",
        "colab": {
          "base_uri": "https://localhost:8080/",
          "height": 51
        },
        "outputId": "f8656c4a-0c24-4ddd-efc5-176ebef58a71"
      },
      "source": [
        "print(x_train.shape)\n",
        "print(x_test.shape)"
      ],
      "execution_count": 10,
      "outputs": [
        {
          "output_type": "stream",
          "text": [
            "(50000, 32, 32, 3)\n",
            "(10000, 32, 32, 3)\n"
          ],
          "name": "stdout"
        }
      ]
    },
    {
      "cell_type": "code",
      "metadata": {
        "id": "BWSE_ZXNRDNz",
        "colab_type": "code",
        "colab": {}
      },
      "source": [
        "\n",
        "trans = [\n",
        "    \"airplane\",\t\t\t\t\t\t\t\t\t\t\n",
        "    \"automobile\",\t\t\t\t\t\t\t\t\t\t\n",
        "    \"bird\",\t\t\t\t\t\t\t\t\t\t\n",
        "    \"cat\",\t\t\t\t\t\t\t\t\t\t\n",
        "    \"deer\",\t\t\t\t\t\t\t\t\t\t\n",
        "    \"dog\",\t\t\t\t\t\t\t\t\t\t\n",
        "    \"frog\",\t\t\t\t\t\t\t\t\t\t\n",
        "    \"horse\",\t\t\t\t\t\t\t\t\t\t\n",
        "    \"ship\",\t\t\t\t\t\t\t\t\t\t\n",
        "    \"truck\"\n",
        "]"
      ],
      "execution_count": 11,
      "outputs": []
    },
    {
      "cell_type": "code",
      "metadata": {
        "id": "pN3Upbi6RE6k",
        "colab_type": "code",
        "colab": {
          "base_uri": "https://localhost:8080/",
          "height": 300
        },
        "outputId": "4f0d40a5-6721-4560-e97d-06581ea48a5c"
      },
      "source": [
        "\n",
        "import random\n",
        "import matplotlib.pyplot as plt\n",
        "%matplotlib inline\n",
        "i = random.randint(0, 49999)\n",
        "print(trans[y_train[i][0]])\n",
        "plt.imshow(x_train[i])"
      ],
      "execution_count": 12,
      "outputs": [
        {
          "output_type": "stream",
          "text": [
            "automobile\n"
          ],
          "name": "stdout"
        },
        {
          "output_type": "execute_result",
          "data": {
            "text/plain": [
              "<matplotlib.image.AxesImage at 0x7f1f9c1a3748>"
            ]
          },
          "metadata": {
            "tags": []
          },
          "execution_count": 12
        },
        {
          "output_type": "display_data",
          "data": {
            "image/png": "[encoded data removed]",
            "text/plain": [
              "<Figure size 432x288 with 1 Axes>"
            ]
          },
          "metadata": {
            "tags": [],
            "needs_background": "light"
          }
        }
      ]
    },
    {
      "cell_type": "code",
      "metadata": {
        "id": "QlLRWimLQaGI",
        "colab_type": "code",
        "colab": {
          "base_uri": "https://localhost:8080/",
          "height": 493
        },
        "outputId": "e1741c8d-534c-46ef-a672-ac40fd6b16a0"
      },
      "source": [
        "\n",
        "from tensorflow.keras.layers import Conv2D, MaxPooling2D\n",
        "from tensorflow.keras.layers import Dense, Flatten, Dropout\n",
        "from tensorflow.keras.models import Sequential\n",
        "layers = [\n",
        "    # 3 * 3 * 3(一個過濾器) * 64（個) + 64(bias) = 1792\n",
        "    Conv2D(64, 3, padding=\"same\", activation=\"relu\", input_shape=(32, 32, 3)),\n",
        "    MaxPooling2D(),\n",
        "    # 3 * 3 * 64(一個過濾器) * 128（個) + 128(bias) = 73856\n",
        "    Conv2D(128, 3, padding=\"same\", activation=\"relu\"),\n",
        "    MaxPooling2D(),    \n",
        "    Conv2D(256, 3, padding=\"same\", activation=\"relu\"),\n",
        "    MaxPooling2D(),\n",
        "    Flatten(),\n",
        "    Dense(256, activation=\"relu\"),\n",
        "    Dropout(0.25),\n",
        "    Dense(10, activation=\"softmax\")\n",
        "]\n",
        "model = Sequential(layers)\n",
        "model.summary()\n",
        "\n",
        "\n"
      ],
      "execution_count": 13,
      "outputs": [
        {
          "output_type": "stream",
          "text": [
            "Model: \"sequential_1\"\n",
            "_________________________________________________________________\n",
            "Layer (type)                 Output Shape              Param #   \n",
            "=================================================================\n",
            "conv2d_3 (Conv2D)            (None, 32, 32, 64)        1792      \n",
            "_________________________________________________________________\n",
            "max_pooling2d_3 (MaxPooling2 (None, 16, 16, 64)        0         \n",
            "_________________________________________________________________\n",
            "conv2d_4 (Conv2D)            (None, 16, 16, 128)       73856     \n",
            "_________________________________________________________________\n",
            "max_pooling2d_4 (MaxPooling2 (None, 8, 8, 128)         0         \n",
            "_________________________________________________________________\n",
            "conv2d_5 (Conv2D)            (None, 8, 8, 256)         295168    \n",
            "_________________________________________________________________\n",
            "max_pooling2d_5 (MaxPooling2 (None, 4, 4, 256)         0         \n",
            "_________________________________________________________________\n",
            "flatten_1 (Flatten)          (None, 4096)              0         \n",
            "_________________________________________________________________\n",
            "dense_2 (Dense)              (None, 256)               1048832   \n",
            "_________________________________________________________________\n",
            "dropout_1 (Dropout)          (None, 256)               0         \n",
            "_________________________________________________________________\n",
            "dense_3 (Dense)              (None, 10)                2570      \n",
            "=================================================================\n",
            "Total params: 1,422,218\n",
            "Trainable params: 1,422,218\n",
            "Non-trainable params: 0\n",
            "_________________________________________________________________\n"
          ],
          "name": "stdout"
        }
      ]
    },
    {
      "cell_type": "code",
      "metadata": {
        "id": "qKnd1zxAXlOA",
        "colab_type": "code",
        "colab": {}
      },
      "source": [
        "from tensorflow.keras.losses import SparseCategoricalCrossentropy\n",
        "model.compile(loss=SparseCategoricalCrossentropy(), metrics=[\"accuracy\"])"
      ],
      "execution_count": 14,
      "outputs": []
    },
    {
      "cell_type": "code",
      "metadata": {
        "id": "bng2XNcyX12h",
        "colab_type": "code",
        "colab": {}
      },
      "source": [
        "x_train_norm = x_train / 255 \n",
        "x_test_norm = x_test / 255 "
      ],
      "execution_count": 15,
      "outputs": []
    },
    {
      "cell_type": "code",
      "metadata": {
        "id": "chq7Tif3XZ2i",
        "colab_type": "code",
        "colab": {
          "base_uri": "https://localhost:8080/",
          "height": 459
        },
        "outputId": "dd2c9ad9-ad07-4e94-a9ab-601f72b60db7"
      },
      "source": [
        "\n",
        "from tensorflow.keras.callbacks import EarlyStopping, ModelCheckpoint\n",
        "callbacks = [\n",
        "            ModelCheckpoint(\"cnn.h5\", save_best_only=True),\n",
        "            EarlyStopping(patience=5, restore_best_weights=True)\n",
        "]\n",
        "model.fit(\n",
        "      x_train_norm, \n",
        "      y_train, \n",
        "      batch_size=200, \n",
        "      validation_split=0.1, \n",
        "      epochs = 50 , \n",
        "      callbacks = callbacks, \n",
        "      verbose= 2\n",
        ")\n"
      ],
      "execution_count": 8,
      "outputs": [
        {
          "output_type": "stream",
          "text": [
            "Epoch 1/50\n",
            "WARNING:tensorflow:Callbacks method `on_train_batch_end` is slow compared to the batch time (batch time: 0.0042s vs `on_train_batch_end` time: 0.0099s). Check your callbacks.\n",
            "225/225 - 3s - loss: 1.8039 - accuracy: 0.3503 - val_loss: 1.3761 - val_accuracy: 0.5068\n",
            "Epoch 2/50\n",
            "225/225 - 3s - loss: 1.2806 - accuracy: 0.5488 - val_loss: 1.2212 - val_accuracy: 0.5812\n",
            "Epoch 3/50\n",
            "225/225 - 3s - loss: 1.0295 - accuracy: 0.6405 - val_loss: 0.9270 - val_accuracy: 0.6826\n",
            "Epoch 4/50\n",
            "225/225 - 3s - loss: 0.8765 - accuracy: 0.6957 - val_loss: 0.8857 - val_accuracy: 0.6990\n",
            "Epoch 5/50\n",
            "225/225 - 3s - loss: 0.7455 - accuracy: 0.7427 - val_loss: 0.8384 - val_accuracy: 0.7134\n",
            "Epoch 6/50\n",
            "225/225 - 3s - loss: 0.6357 - accuracy: 0.7798 - val_loss: 0.7659 - val_accuracy: 0.7442\n",
            "Epoch 7/50\n",
            "225/225 - 3s - loss: 0.5358 - accuracy: 0.8132 - val_loss: 0.7305 - val_accuracy: 0.7558\n",
            "Epoch 8/50\n",
            "225/225 - 3s - loss: 0.4469 - accuracy: 0.8423 - val_loss: 0.7456 - val_accuracy: 0.7692\n",
            "Epoch 9/50\n",
            "225/225 - 3s - loss: 0.3706 - accuracy: 0.8684 - val_loss: 0.8133 - val_accuracy: 0.7436\n",
            "Epoch 10/50\n",
            "225/225 - 3s - loss: 0.3015 - accuracy: 0.8953 - val_loss: 0.7691 - val_accuracy: 0.7698\n",
            "Epoch 11/50\n",
            "225/225 - 3s - loss: 0.2407 - accuracy: 0.9159 - val_loss: 0.8781 - val_accuracy: 0.7730\n",
            "Epoch 12/50\n",
            "225/225 - 3s - loss: 0.2029 - accuracy: 0.9309 - val_loss: 0.9071 - val_accuracy: 0.7738\n"
          ],
          "name": "stdout"
        },
        {
          "output_type": "execute_result",
          "data": {
            "text/plain": [
              "<tensorflow.python.keras.callbacks.History at 0x7f1ff0086f98>"
            ]
          },
          "metadata": {
            "tags": []
          },
          "execution_count": 8
        }
      ]
    }
  ]
}