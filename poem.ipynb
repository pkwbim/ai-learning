{
  "nbformat": 4,
  "nbformat_minor": 0,
  "metadata": {
    "colab": {
      "name": "poem.ipynb",
      "provenance": [],
      "collapsed_sections": [],
      "authorship_tag": "ABX9TyN7yASbT8DN+8sGDMTttvSQ",
      "include_colab_link": true
    },
    "kernelspec": {
      "name": "python3",
      "display_name": "Python 3"
    }
  },
  "cells": [
    {
      "cell_type": "markdown",
      "metadata": {
        "id": "view-in-github",
        "colab_type": "text"
      },
      "source": [
        "<a href=\"https://colab.research.google.com/github/pkwbim/ai-learning/blob/master/poem.ipynb\" target=\"_parent\"><img src=\"https://colab.research.google.com/assets/colab-badge.svg\" alt=\"Open In Colab\"/></a>"
      ]
    },
    {
      "cell_type": "code",
      "metadata": {
        "id": "zDL_6DepAJp9",
        "colab_type": "code",
        "colab": {
          "base_uri": "https://localhost:8080/",
          "height": 35
        },
        "outputId": "c792a0ff-3d7d-4544-9dec-599c95042058"
      },
      "source": [
        "from urllib.request import urlretrieve\n",
        "url = 'https://github.com/Elwing-Chou/ml0716/raw/master/poem_test.csv'\n",
        "urlretrieve(url, 'poem_test.csv')\n",
        "\n",
        "url = 'https://github.com/Elwing-Chou/ml0716/raw/master/poem_train.csv'\n",
        "urlretrieve(url, 'poem_train.csv')"
      ],
      "execution_count": 6,
      "outputs": [
        {
          "output_type": "execute_result",
          "data": {
            "text/plain": [
              "('poem_train.csv', <http.client.HTTPMessage at 0x7f5eea016588>)"
            ]
          },
          "metadata": {
            "tags": []
          },
          "execution_count": 6
        }
      ]
    },
    {
      "cell_type": "code",
      "metadata": {
        "id": "cKrHAiBQA1P8",
        "colab_type": "code",
        "colab": {}
      },
      "source": [
        "import pandas as pd\n",
        "train_df = pd.read_csv('poem_train.csv', encoding=\"utf-8\")\n",
        "test_df = pd.read_csv('poem_test.csv', encoding=\"utf-8\")"
      ],
      "execution_count": 18,
      "outputs": []
    },
    {
      "cell_type": "code",
      "metadata": {
        "id": "RQOOF0jrUc5y",
        "colab_type": "code",
        "colab": {}
      },
      "source": [
        "u = train_df['作者'].unique()\n",
        "trans = { n:i for i, n in enumerate(u)}\n",
        "trans_r = { i:n for i, n in enumerate(u)}\n",
        "y_train = train_df['作者'].replace(trans)\n",
        "y_test = test_df['作者'].replace(trans)"
      ],
      "execution_count": 19,
      "outputs": []
    },
    {
      "cell_type": "code",
      "metadata": {
        "id": "DnlX5IreXAwf",
        "colab_type": "code",
        "colab": {
          "base_uri": "https://localhost:8080/",
          "height": 122
        },
        "outputId": "e9ff9b7e-8084-4df9-d31b-b6b73e9014a2"
      },
      "source": [
        "# demo\n",
        "# iloc: [1st, 2nd, 3rd, ...]\n",
        "# 檢查標點和換行是不是有去掉\n",
        "import jieba\n",
        "p = train_df.iloc[0]['內容']\n",
        "' '.join(jieba.cut(p))"
      ],
      "execution_count": 23,
      "outputs": [
        {
          "output_type": "stream",
          "text": [
            "Building prefix dict from the default dictionary ...\n",
            "Dumping model to file cache /tmp/jieba.cache\n",
            "Loading model cost 0.942 seconds.\n",
            "Prefix dict has been built successfully.\n"
          ],
          "name": "stderr"
        },
        {
          "output_type": "execute_result",
          "data": {
            "application/vnd.google.colaboratory.intrinsic": {
              "type": "string"
            },
            "text/plain": [
              "'平林 漠漠 煙如織 ， 寒山 一帶 傷心 碧 。 \\r\\n 暝 色入 高樓 ， 有人 樓上 愁 。 玉階空 佇立 ， 宿鳥 歸 飛急 。 \\r\\n 何處 是 歸程 ？ 長 亭 連短亭 。 ( 連短亭   一作 ： 更 短亭 )   \\r\\n                '"
            ]
          },
          "metadata": {
            "tags": []
          },
          "execution_count": 23
        }
      ]
    },
    {
      "cell_type": "code",
      "metadata": {
        "id": "7mvfHESxYb97",
        "colab_type": "code",
        "colab": {
          "base_uri": "https://localhost:8080/",
          "height": 225
        },
        "outputId": "929420be-9a3c-49cb-ce54-4105da42f17d"
      },
      "source": [
        "# Series.apply(func name)\n",
        "import re\n",
        "def poemcut(p):\n",
        "  p = re.sub(r'[，：。？\\n\\r]', r' ', p)\n",
        "  return ' '.join(jieba.cut(p))\n",
        "x_train = train_df['內容'].apply(poemcut)\n",
        "x_test = test_df['內容'].apply(poemcut)\n",
        "x_train"
      ],
      "execution_count": 30,
      "outputs": [
        {
          "output_type": "execute_result",
          "data": {
            "text/plain": [
              "0       平林 漠漠 煙如織   寒山 一帶 傷心 碧       暝 色入 高樓   有人 樓上 愁...\n",
              "1       青天 有 月 來 幾時   我今 停杯 一問 之   人攀 明月 不可 得   月行 卻 與...\n",
              "2       燕草 如碧絲   秦桑低 綠枝   當君 懷歸日   是 妾 斷腸時   春風 不 相識  ...\n",
              "3       誰 家玉笛 暗飛聲   散 入春 風滿 洛城   此 夜曲 中聞折 柳   何人 不起 故園情  \n",
              "4       西上 蓮 花山   迢迢 見 明星   ( 西 上   一作   西 嶽 ) 素 手把 芙蓉...\n",
              "                              ...                        \n",
              "2726    零落 桐葉雨   蕭條 槿 花風   悠悠 早 秋意   生此 幽閒 中   況 與 故人 ...\n",
              "2727    離離 暑雲散   嫋嫋 涼風起   池上 秋 又 來   荷花 半成 子   朱顏易銷 歇 ...\n",
              "2728    涼風 冷露 蕭索天   黃 蒿 紫菊荒 涼田   繞 塚 秋花少 顏色   細蟲 小蝶飛 翻...\n",
              "2729    往歲 曾 為 西邑吏   慣 從 駱口 到 南秦       三時 雲冷多 飛雪   二月 ...\n",
              "2730    笛 竹出 蘄 春   霜刀 劈翠筠   織成 雙鎖 簟   寄 與 獨眠 人   卷作筒 中...\n",
              "Name: 內容, Length: 2731, dtype: object"
            ]
          },
          "metadata": {
            "tags": []
          },
          "execution_count": 30
        }
      ]
    }
  ]
}