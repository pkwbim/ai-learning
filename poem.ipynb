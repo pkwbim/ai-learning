{
  "nbformat": 4,
  "nbformat_minor": 0,
  "metadata": {
    "colab": {
      "name": "poem.ipynb",
      "provenance": [],
      "collapsed_sections": [],
      "authorship_tag": "ABX9TyMIaIuHwDXBRWRE9zF/ErCa",
      "include_colab_link": true
    },
    "kernelspec": {
      "name": "python3",
      "display_name": "Python 3"
    }
  },
  "cells": [
    {
      "cell_type": "markdown",
      "metadata": {
        "id": "view-in-github",
        "colab_type": "text"
      },
      "source": [
        "<a href=\"https://colab.research.google.com/github/pkwbim/ai-learning/blob/master/poem.ipynb\" target=\"_parent\"><img src=\"https://colab.research.google.com/assets/colab-badge.svg\" alt=\"Open In Colab\"/></a>"
      ]
    },
    {
      "cell_type": "code",
      "metadata": {
        "id": "zDL_6DepAJp9",
        "colab_type": "code",
        "colab": {
          "base_uri": "https://localhost:8080/",
          "height": 35
        },
        "outputId": "d13b474c-ad38-4c5e-ddf5-0bf7d9871b72"
      },
      "source": [
        "from urllib.request import urlretrieve\n",
        "url = 'https://github.com/Elwing-Chou/ml0716/raw/master/poem_test.csv'\n",
        "urlretrieve(url, 'poem_test.csv')\n",
        "\n",
        "url = 'https://github.com/Elwing-Chou/ml0716/raw/master/poem_train.csv'\n",
        "urlretrieve(url, 'poem_train.csv')"
      ],
      "execution_count": null,
      "outputs": [
        {
          "output_type": "execute_result",
          "data": {
            "text/plain": [
              "('poem_train.csv', <http.client.HTTPMessage at 0x7f5edb2dc940>)"
            ]
          },
          "metadata": {
            "tags": []
          },
          "execution_count": 33
        }
      ]
    },
    {
      "cell_type": "code",
      "metadata": {
        "id": "cKrHAiBQA1P8",
        "colab_type": "code",
        "colab": {}
      },
      "source": [
        "import pandas as pd\n",
        "train_df = pd.read_csv('poem_train.csv', encoding=\"utf-8\")\n",
        "test_df = pd.read_csv('poem_test.csv', encoding=\"utf-8\")"
      ],
      "execution_count": null,
      "outputs": []
    },
    {
      "cell_type": "code",
      "metadata": {
        "id": "RQOOF0jrUc5y",
        "colab_type": "code",
        "colab": {}
      },
      "source": [
        "u = train_df['作者'].unique()\n",
        "trans = { n:i for i, n in enumerate(u)}\n",
        "trans_r = { i:n for i, n in enumerate(u)}\n",
        "y_train = train_df['作者'].replace(trans)\n",
        "y_test = test_df['作者'].replace(trans)"
      ],
      "execution_count": null,
      "outputs": []
    },
    {
      "cell_type": "code",
      "metadata": {
        "id": "DnlX5IreXAwf",
        "colab_type": "code",
        "colab": {
          "base_uri": "https://localhost:8080/",
          "height": 53
        },
        "outputId": "c960dd73-650e-4900-e56b-4a3aef777569"
      },
      "source": [
        "# demo\n",
        "# iloc: [1st, 2nd, 3rd, ...]\n",
        "# 檢查標點和換行是不是有去掉\n",
        "import jieba\n",
        "p = train_df.iloc[0]['內容']\n",
        "' '.join(jieba.cut(p))"
      ],
      "execution_count": null,
      "outputs": [
        {
          "output_type": "execute_result",
          "data": {
            "application/vnd.google.colaboratory.intrinsic": {
              "type": "string"
            },
            "text/plain": [
              "'平林 漠漠 煙如織 ， 寒山 一帶 傷心 碧 。 \\r\\n 暝 色入 高樓 ， 有人 樓上 愁 。 玉階空 佇立 ， 宿鳥 歸 飛急 。 \\r\\n 何處 是 歸程 ？ 長 亭 連短亭 。 ( 連短亭   一作 ： 更 短亭 )   \\r\\n                '"
            ]
          },
          "metadata": {
            "tags": []
          },
          "execution_count": 36
        }
      ]
    },
    {
      "cell_type": "code",
      "metadata": {
        "id": "7mvfHESxYb97",
        "colab_type": "code",
        "colab": {
          "base_uri": "https://localhost:8080/",
          "height": 555
        },
        "outputId": "950e7e6a-f2d5-49d9-d6e3-8185cbbb4077"
      },
      "source": [
        "# Series.apply(func name)\n",
        "import re\n",
        "def poemcut(p):\n",
        "  p = re.sub(r'[，：。？\\n\\r]', r' ', p)\n",
        "  return ' '.join(jieba.cut(p))\n",
        "x_train = train_df['內容'].apply(poemcut)\n",
        "x_test = test_df['內容'].apply(poemcut)\n",
        "x_test\n"
      ],
      "execution_count": 46,
      "outputs": [
        {
          "output_type": "execute_result",
          "data": {
            "text/plain": [
              "0      日照 香爐生 紫煙   遙看 瀑布 掛 前川   飛流 直下 三千尺   疑是 銀河 落九天  \n",
              "1     朝辭 白帝 彩雲間   千裡 江陵 一日 還   兩岸 猿聲 啼 不住   輕舟 已過 萬 ...\n",
              "2      李白 乘舟 將欲行   忽聞 岸上 踏歌 聲   桃花潭水 深 千尺   不及 汪倫送 我情  \n",
              "3       故人 西辭黃鶴樓   煙花 三月 下揚州   孤帆 遠影 碧空 儘   唯見長 江天 際流  \n",
              "4                 危樓 高 百尺   手可摘 星辰   不敢 高聲語   恐驚 天上 人  \n",
              "5                  床前 明月光   疑是 地上 霜   舉頭 望明月   低頭思 故鄉  \n",
              "6     天門 中斷 楚江 開   碧水 東流 至此 回   兩岸 青山 相對 出   孤帆 一片 日...\n",
              "7               眾鳥 高 飛 儘   孤雲獨 去 閒   相看 兩不厭   隻 有 敬亭山  \n",
              "8     鳳凰 台上 鳳凰遊   鳳去 台空江 自流   吳宮 花草 埋 幽徑   晉代 衣冠 成古丘...\n",
              "9     渡遠 荊門外   來 從 楚國遊   山 隨 平野 儘   江入 大荒 流   月 下 飛天...\n",
              "10    百川 日東流   客去 亦 不息   我 生苦 漂 蕩   何時 有 終極   讚 公 釋 ...\n",
              "11    細泉 兼 輕冰   沮洳 棧道 濕   不辭 辛苦 行   迫此 短景急   石門 雪雲隘 ...\n",
              "12    首路 栗亭 西   尚想 鳳凰村   季冬 攜 童稚   辛苦 赴 蜀門   南登 木皮 嶺...\n",
              "13    落日 在 簾 鉤   溪邊 春事幽   芳菲 緣岸 圃   樵 爨 倚灘 舟   啅 雀 爭...\n",
              "14    竇侍 禦   驥 之子   鳳之雛   年 未 三十 忠義俱   骨鯁 絕代 無   炯 如...\n",
              "15    百草 競春華   麗春應 最勝   少須 好 顏色   多漫枝條 剩   紛紛 桃李 枝  ...\n",
              "16    何年 顧虎頭   滿壁畫 瀛州   赤 日 石林 氣   青天 江海 流   錫飛常 近鶴 ...\n",
              "17    野寺 隱喬木   山僧 高下 居   石門 日色異   絳 氣橫 扶疏   窈窕 入風 磴 ...\n",
              "18    西川 有 杜鵑   東川 無 杜鵑   涪萬 無 杜鵑   雲安有 杜鵑   我 昔遊錦城 ...\n",
              "19    小奴 縛雞 向 市 賣   雞 被縛 急 相 喧爭   家中 厭雞 食蟲 蟻   不知 雞賣...\n",
              "20    管妙 弦 清歌 入 雲   老人 合眼 醉醺醺   誠知 不及 當年 聽   猶覺 聞時 勝...\n",
              "21    追歡 逐樂少 閒時   補帖 平生 得事遲   何處 花開 曾後看   誰家 酒熟 不 先知...\n",
              "22    歲 陰生計 兩 蹉跎   相顧 悠悠 醉且 歌   廚冷 難留 烏止 屋   門閒 可 與 ...\n",
              "23    雨 砌 長 寒蕪   風庭 落秋果   窗間 有 閒叟   儘 日 看 書 坐   書中見 ...\n",
              "24    睡足 肢體 暢   晨起 開 中堂   初旭泛 簾幕   微風 拂 衣裳   二婢 扶 盥櫛...\n",
              "25    履道 西門 有 弊居   池塘 竹樹繞 君廬   豪華肥壯 雖無分   飽暖安閒 即 有 餘...\n",
              "26    昨日 複 今辰   悠悠 七十 春   所經 多 故處   卻 想 似 前身   散 秩優遊...\n",
              "27    不 與 老為期   因何 兩鬢絲   才 應免 夭促   便 已 及 衰 羸   昨夜 夢 ...\n",
              "28    暖床 斜 臥日 曛 腰   一覺 閒眠 百病 銷   儘 日 一 飧 茶 兩 碗   更無所...\n",
              "29    選石 鋪 新路   安橋 壓古堤   似 從 銀漢下   落傍玉 川西   影定 欄杆 倒 ...\n",
              "Name: 內容, dtype: object"
            ]
          },
          "metadata": {
            "tags": []
          },
          "execution_count": 46
        }
      ]
    },
    {
      "cell_type": "code",
      "metadata": {
        "id": "ot4zQ0DtbnMF",
        "colab_type": "code",
        "colab": {}
      },
      "source": [
        "# 測試資料不要重做fit,如果你的詞不在常初fit的欄位，則去掉\n",
        "from sklearn.feature_extraction.text import CountVectorizer\n",
        "vec = CountVectorizer()\n",
        "x_train_count = vec.fit_transform(x_train)\n",
        "x_test_count = vec.transform(x_test)"
      ],
      "execution_count": null,
      "outputs": []
    },
    {
      "cell_type": "code",
      "metadata": {
        "id": "UPui2dRJcBCQ",
        "colab_type": "code",
        "colab": {
          "base_uri": "https://localhost:8080/",
          "height": 52
        },
        "outputId": "a3a91054-d348-47ba-e0ed-ecd15f86c596"
      },
      "source": [
        "x_train_count"
      ],
      "execution_count": null,
      "outputs": [
        {
          "output_type": "execute_result",
          "data": {
            "text/plain": [
              "<2731x52294 sparse matrix of type '<class 'numpy.int64'>'\n",
              "\twith 85677 stored elements in Compressed Sparse Row format>"
            ]
          },
          "metadata": {
            "tags": []
          },
          "execution_count": 39
        }
      ]
    },
    {
      "cell_type": "code",
      "metadata": {
        "id": "iuIOw1x3hJd3",
        "colab_type": "code",
        "colab": {
          "base_uri": "https://localhost:8080/",
          "height": 35
        },
        "outputId": "83c0557e-bf26-4d69-e99b-c05dd7695679"
      },
      "source": [
        "from sklearn.naive_bayes import MultinomialNB\n",
        "clf = MultinomialNB()\n",
        "clf.fit(x_train_count, y_train)\n"
      ],
      "execution_count": 43,
      "outputs": [
        {
          "output_type": "execute_result",
          "data": {
            "text/plain": [
              "MultinomialNB(alpha=1.0, class_prior=None, fit_prior=True)"
            ]
          },
          "metadata": {
            "tags": []
          },
          "execution_count": 43
        }
      ]
    },
    {
      "cell_type": "code",
      "metadata": {
        "id": "13gR2Pv3hs0p",
        "colab_type": "code",
        "colab": {
          "base_uri": "https://localhost:8080/",
          "height": 35
        },
        "outputId": "6a6565f0-e543-4118-b9e0-8310fa4e11f5"
      },
      "source": [
        "from sklearn.metrics import accuracy_score\n",
        "pre = clf.predict(x_test_count)\n",
        "accuracy_score(pre, y_test)\n"
      ],
      "execution_count": 44,
      "outputs": [
        {
          "output_type": "execute_result",
          "data": {
            "text/plain": [
              "0.8"
            ]
          },
          "metadata": {
            "tags": []
          },
          "execution_count": 44
        }
      ]
    },
    {
      "cell_type": "code",
      "metadata": {
        "id": "hoWrXIYii0EZ",
        "colab_type": "code",
        "colab": {
          "base_uri": "https://localhost:8080/",
          "height": 141
        },
        "outputId": "cf64a81b-9097-4c36-b02a-92cd77dcfc8a"
      },
      "source": [
        "from sklearn.metrics import confusion_matrix\n",
        "mat = confusion_matrix(y_test, pre)\n",
        "pd.DataFrame(mat, \n",
        "      columns=[ n+'(預測值)'for n in u],\n",
        "      index=[n+'(真實)' for n in u])\n"
      ],
      "execution_count": 49,
      "outputs": [
        {
          "output_type": "execute_result",
          "data": {
            "text/html": [
              "<div>\n",
              "<style scoped>\n",
              "    .dataframe tbody tr th:only-of-type {\n",
              "        vertical-align: middle;\n",
              "    }\n",
              "\n",
              "    .dataframe tbody tr th {\n",
              "        vertical-align: top;\n",
              "    }\n",
              "\n",
              "    .dataframe thead th {\n",
              "        text-align: right;\n",
              "    }\n",
              "</style>\n",
              "<table border=\"1\" class=\"dataframe\">\n",
              "  <thead>\n",
              "    <tr style=\"text-align: right;\">\n",
              "      <th></th>\n",
              "      <th>李白(預測值)</th>\n",
              "      <th>杜甫(預測值)</th>\n",
              "      <th>白居易(預測值)</th>\n",
              "    </tr>\n",
              "  </thead>\n",
              "  <tbody>\n",
              "    <tr>\n",
              "      <th>李白(真實)</th>\n",
              "      <td>8</td>\n",
              "      <td>1</td>\n",
              "      <td>1</td>\n",
              "    </tr>\n",
              "    <tr>\n",
              "      <th>杜甫(真實)</th>\n",
              "      <td>1</td>\n",
              "      <td>8</td>\n",
              "      <td>1</td>\n",
              "    </tr>\n",
              "    <tr>\n",
              "      <th>白居易(真實)</th>\n",
              "      <td>1</td>\n",
              "      <td>1</td>\n",
              "      <td>8</td>\n",
              "    </tr>\n",
              "  </tbody>\n",
              "</table>\n",
              "</div>"
            ],
            "text/plain": [
              "         李白(預測值)  杜甫(預測值)  白居易(預測值)\n",
              "李白(真實)         8        1         1\n",
              "杜甫(真實)         1        8         1\n",
              "白居易(真實)        1        1         8"
            ]
          },
          "metadata": {
            "tags": []
          },
          "execution_count": 49
        }
      ]
    },
    {
      "cell_type": "code",
      "metadata": {
        "id": "c6ouAySVjtwX",
        "colab_type": "code",
        "colab": {
          "base_uri": "https://localhost:8080/",
          "height": 104
        },
        "outputId": "b9ca1aa5-7bf4-4e72-9653-a12bb1606a2e"
      },
      "source": [
        "test = '我打江南走過  那等在季節里的容顏如蓮花的開落  東風不來，三月的柳絮不飛  你底心如小小的寂寞的城  恰若青石的街道向晚  跫音不響，三月的春帷不揭  你底心是小小的窗扉緊掩  我達達的馬蹄是美麗的錯誤  我不是歸人，是個過客…… '\n",
        "count = vec.transform([poemcut(test)])\n",
        "answer = clf.predict(count)[0]\n",
        "proba = clf.predict_proba(count)[0]\n",
        "for name, p in zip(u, proba):\n",
        "  print(name, '的機率：', p)\n",
        "print(proba)\n",
        "print('Ans:', trans_r[answer])"
      ],
      "execution_count": 64,
      "outputs": [
        {
          "output_type": "stream",
          "text": [
            "李白 的機率： 0.22496514882715682\n",
            "杜甫 的機率： 0.6997692416013379\n",
            "白居易 的機率： 0.07526560957151852\n",
            "[0.22496515 0.69976924 0.07526561]\n",
            "Ans: 杜甫\n"
          ],
          "name": "stdout"
        }
      ]
    },
    {
      "cell_type": "code",
      "metadata": {
        "id": "WAXcfNm_lMny",
        "colab_type": "code",
        "colab": {
          "base_uri": "https://localhost:8080/",
          "height": 35
        },
        "outputId": "358bafb2-f035-4f76-88e9-10999364182c"
      },
      "source": [
        "list(zip([1,2,3], [4,5,6]))"
      ],
      "execution_count": 59,
      "outputs": [
        {
          "output_type": "execute_result",
          "data": {
            "text/plain": [
              "[(1, 4), (2, 5), (3, 6)]"
            ]
          },
          "metadata": {
            "tags": []
          },
          "execution_count": 59
        }
      ]
    }
  ]
}